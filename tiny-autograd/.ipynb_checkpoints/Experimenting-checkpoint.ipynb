{
 "cells": [
  {
   "cell_type": "code",
   "execution_count": null,
   "metadata": {
    "colab": {
     "base_uri": "https://localhost:8080/"
    },
    "id": "tBTpy0a-OFVT",
    "outputId": "11468fe3-5400-4f0f-d4bc-fac25f3cf277"
   },
   "outputs": [],
   "source": [
    "pip install graphviz"
   ]
  },
  {
   "cell_type": "code",
   "execution_count": null,
   "metadata": {
    "id": "a6yucVphNxG0"
   },
   "outputs": [],
   "source": [
    "import math\n",
    "\n",
    "class Value:\n",
    "  def __init__(self, data: int, _children=(), _op=''):\n",
    "    self.data = data\n",
    "    self._prev = set(_children)\n",
    "    self._op = _op\n",
    "    self._backward = lambda: None\n",
    "    self.grad = 0.0\n",
    "\n",
    "  def __repr__(self):\n",
    "    return f\"Value(val={self.data})\"\n",
    "\n",
    "  def backward(self):\n",
    "    sort = []\n",
    "    visited = set()\n",
    "    def topo(v):\n",
    "      if v not in visited:\n",
    "        visited.add(v)\n",
    "        for node in v._prev:\n",
    "          topo(node)\n",
    "        sort.append(v)\n",
    "\n",
    "    topo(self)\n",
    "    self.grad = 1.0\n",
    "    for node in reversed(sort):\n",
    "      node._backward()\n",
    "\n",
    "  def __add__(self, other):\n",
    "    other = other if isinstance(other, Value) else Value(other)\n",
    "    new_value = Value(\n",
    "        self.data + other.data,\n",
    "        (self, other),\n",
    "        '+'\n",
    "    )\n",
    "\n",
    "    def _backward():\n",
    "      self.grad += new_value.grad\n",
    "      other.grad += new_value.grad\n",
    "\n",
    "    new_value._backward = _backward\n",
    "    return new_value\n",
    "\n",
    "  def __mul__(self, other):\n",
    "    other = other if isinstance(other, Value) else Value(other)\n",
    "    new_value = Value(\n",
    "        self.data * other.data,\n",
    "        (self, other),\n",
    "        'x'\n",
    "    )\n",
    "\n",
    "    def _backward():\n",
    "      self.grad += new_value.grad * other.data\n",
    "      other.grad += new_value.grad * self.data\n",
    "\n",
    "    new_value._backward = _backward\n",
    "    return new_value\n",
    "\n",
    "  def relu(self):\n",
    "    alpha = 0.04\n",
    "\n",
    "    new_value = Value(\n",
    "        (self.data if self.data >= 0 else (alpha * self.data)),\n",
    "        (self,),\n",
    "        'ReLU'\n",
    "    )\n",
    "\n",
    "    def _backward():\n",
    "      self.grad += new_value.grad * (1 if self.data > 0 else alpha)\n",
    "\n",
    "    new_value._backward = _backward\n",
    "    return new_value\n",
    "  \n",
    "  def tanh(self):\n",
    "    e_pos = math.exp(self.data)\n",
    "    e_neg = math.exp(-self.data)\n",
    "    t = (e_pos - e_neg) / (e_pos + e_neg)\n",
    "\n",
    "    new_value = Value(\n",
    "        t,\n",
    "        (self,),\n",
    "        'tanh'\n",
    "    )\n",
    "\n",
    "    def _backward():\n",
    "      self.grad += new_value.grad * (1 - t * t)\n",
    "\n",
    "    new_value._backward = _backward\n",
    "    return new_value\n",
    "\n",
    "  def __neg__(self):\n",
    "    return self * -1\n",
    "\n",
    "  def __sub__(self, other):\n",
    "    return self + (-other)"
   ]
  },
  {
   "cell_type": "code",
   "execution_count": null,
   "metadata": {
    "id": "brlTE1s8fg_F"
   },
   "outputs": [],
   "source": [
    "from graphviz import Digraph\n",
    "\n",
    "def trace(root):\n",
    "    nodes, edges = set(), set()\n",
    "    def build(v):\n",
    "        if v not in nodes:\n",
    "            nodes.add(v)\n",
    "            for child in v._prev:\n",
    "                edges.add((child, v))\n",
    "                build(child)\n",
    "    build(root)\n",
    "    return nodes, edges\n",
    "\n",
    "def draw_dot(root, format='svg', rankdir='LR'):\n",
    "    \"\"\"\n",
    "    format: png | svg | ...\n",
    "    rankdir: TB (top to bottom graph) | LR (left to right)\n",
    "    \"\"\"\n",
    "    assert rankdir in ['LR', 'TB']\n",
    "    nodes, edges = trace(root)\n",
    "    dot = Digraph(format=format, graph_attr={'rankdir': rankdir}) #, node_attr={'rankdir': 'TB'})\n",
    "\n",
    "    for n in nodes:\n",
    "        dot.node(name=str(id(n)), label = \"{ data %.4f | grad %.4f }\" % (n.data, n.grad), shape='record')\n",
    "        if n._op:\n",
    "            dot.node(name=str(id(n)) + n._op, label=n._op)\n",
    "            dot.edge(str(id(n)) + n._op, str(id(n)))\n",
    "\n",
    "    for n1, n2 in edges:\n",
    "        dot.edge(str(id(n1)), str(id(n2)) + n2._op)\n",
    "\n",
    "    return dot"
   ]
  },
  {
   "cell_type": "code",
   "execution_count": null,
   "metadata": {
    "id": "0HGh_D13N3sd"
   },
   "outputs": [],
   "source": [
    "val1 = Value(10)\n",
    "val2 = Value(20)\n",
    "val3 = Value(6)\n",
    "val4 = Value(2)\n",
    "\n",
    "res1 = val1 * val2\n",
    "res2 = res1 + val3\n",
    "result = res2 - val4"
   ]
  },
  {
   "cell_type": "code",
   "execution_count": null,
   "metadata": {
    "colab": {
     "base_uri": "https://localhost:8080/",
     "height": 337
    },
    "id": "kgzXZDC7gJun",
    "outputId": "33d8955f-c801-4fb2-f63c-4e3b60b30263"
   },
   "outputs": [],
   "source": [
    "draw_dot(result)"
   ]
  },
  {
   "cell_type": "code",
   "execution_count": null,
   "metadata": {},
   "outputs": [],
   "source": [
    "result.backward()"
   ]
  },
  {
   "cell_type": "code",
   "execution_count": null,
   "metadata": {},
   "outputs": [],
   "source": [
    "draw_dot(result)"
   ]
  },
  {
   "cell_type": "code",
   "execution_count": null,
   "metadata": {
    "id": "zBK34zXksBSN"
   },
   "outputs": [],
   "source": [
    "import random\n",
    "\n",
    "class Neuron:\n",
    "  def __init__(self, input):\n",
    "    self.w = [Value(random.uniform(-1, 1)) for _ in range(input)]\n",
    "    self.b = Value(random.uniform(-1, 1))\n",
    "\n",
    "  def forward(self, input, act='tan'):\n",
    "    y = Value(self.b.data)\n",
    "    for wi, xi in zip(self.w, input):\n",
    "      y += wi * xi\n",
    "\n",
    "    if act == 'tan':\n",
    "        y = y.tanh()\n",
    "    return y\n",
    "  \n",
    "  def parameters(self):\n",
    "    return self.w + [self.b]\n",
    "\n",
    "  def __repr__(self):\n",
    "    return f\"{'ReLU' if self.nonlin else 'Linear'}Neuron({len(self.w)})\"\n"
   ]
  },
  {
   "cell_type": "code",
   "execution_count": null,
   "metadata": {
    "colab": {
     "base_uri": "https://localhost:8080/",
     "height": 446
    },
    "id": "m5kFBsAz2CJU",
    "outputId": "8c07ade5-3323-4c31-e16f-74b12a1ebcd1"
   },
   "outputs": [],
   "source": [
    "neuron = Neuron(3)\n",
    "y = neuron.forward([1, 2, -1])"
   ]
  },
  {
   "cell_type": "code",
   "execution_count": null,
   "metadata": {
    "colab": {
     "base_uri": "https://localhost:8080/"
    },
    "id": "ohotwBxj7-DK",
    "outputId": "f1e71dad-0c79-4d74-ce7c-6b1990b415aa"
   },
   "outputs": [],
   "source": [
    "y.backward()"
   ]
  },
  {
   "cell_type": "code",
   "execution_count": null,
   "metadata": {
    "id": "bMozgrHKBAFW"
   },
   "outputs": [],
   "source": [
    "print(y)\n",
    "draw_dot(y)"
   ]
  },
  {
   "cell_type": "code",
   "execution_count": null,
   "metadata": {},
   "outputs": [],
   "source": [
    "class Layer:\n",
    "    def __init__(self, input, output):\n",
    "        self.neurons = [Neuron(input) for _ in range(output)]\n",
    "    \n",
    "    def forward(self, input, act = 'tan'):\n",
    "        outputs = []\n",
    "        for neuron in self.neurons:\n",
    "            outputs.append(neuron.forward(input, act))\n",
    "        \n",
    "        return outputs\n",
    "    \n",
    "    def parameters(self):\n",
    "        params = []\n",
    "        for neuron in self.neurons:\n",
    "            params.extend(neuron.parameters())\n",
    "        return params"
   ]
  },
  {
   "cell_type": "code",
   "execution_count": null,
   "metadata": {},
   "outputs": [],
   "source": [
    "layer = Layer(3, 4)\n",
    "x = [1, 2, -1]\n",
    "\n",
    "outputs = layer.forward(x)\n",
    "\n",
    "outputs[0].backward()\n",
    "draw_dot(outputs[0])"
   ]
  },
  {
   "cell_type": "code",
   "execution_count": null,
   "metadata": {},
   "outputs": [],
   "source": [
    "class NN:\n",
    "    def __init__(self, input, outs):\n",
    "        self.layers = []\n",
    "\n",
    "        t = [input] + outs\n",
    "        for i in range(0, len(t) - 1):\n",
    "            self.layers.append(Layer(t[i], t[i+1]))\n",
    "\n",
    "    def forward(self, input):\n",
    "        out = input\n",
    "        for index in range(len(self.layers)-1):\n",
    "            out = self.layers[index].forward(out)\n",
    "            \n",
    "        out = self.layers[-1].forward(out, None)\n",
    "        return out\n",
    "    \n",
    "    def parameters(self):\n",
    "        params = []\n",
    "        for layer in self.layers:\n",
    "            params.extend(layer.parameters())\n",
    "        return params\n",
    "    \n",
    "    def loss(self, ygt, ypred):\n",
    "        loss = Value(0.0)\n",
    "        for yi, xi in zip(ygt, ypred):\n",
    "            diff = yi - xi\n",
    "            loss += diff * diff\n",
    "        return loss\n",
    "    \n",
    "    def backward(self, ygt, ypred):\n",
    "        loss = self.loss(ygt, ypred)\n",
    "        loss.backward()\n",
    "\n",
    "        for parameter in self.parameters():\n",
    "            parameter.data -= 0.1 * parameter.grad\n",
    "            parameter.grad = 0.0"
   ]
  },
  {
   "cell_type": "code",
   "execution_count": null,
   "metadata": {},
   "outputs": [],
   "source": [
    "nn = NN(3, [4, 2, 3])\n",
    "x = [1, 2, -1, 21]"
   ]
  },
  {
   "cell_type": "code",
   "execution_count": null,
   "metadata": {},
   "outputs": [],
   "source": [
    "ygt = [Value(0.75), Value(-0.4), Value(32)]\n",
    "\n",
    "for _ in range(2000):\n",
    "    ypred = nn.forward(x)\n",
    "    print(ypred)\n",
    "    nn.backward(ygt, ypred)"
   ]
  },
  {
   "cell_type": "code",
   "execution_count": null,
   "metadata": {},
   "outputs": [],
   "source": [
    "linear_case = NN(3, [4,2,4])\n",
    "x = [1, 2, 3, 4]\n",
    "ygt = [Value(3), Value(5), Value(7), Value(9)]\n",
    "\n",
    "for _ in range(2000):\n",
    "    ypred = linear_case.forward(x)\n",
    "    print(ypred)\n",
    "    linear_case.backward(ygt, ypred)"
   ]
  },
  {
   "cell_type": "code",
   "execution_count": null,
   "metadata": {},
   "outputs": [],
   "source": [
    "linear_case2 = NN(3, [4,2,4])\n",
    "x = [-2, 0, 2, 4]\n",
    "ygt = [Value(3), Value(2), Value(1), Value(0)]\n",
    "\n",
    "for _ in range(2000):\n",
    "    ypred = linear_case2.forward(x)\n",
    "    print(ypred)\n",
    "    linear_case2.backward(ygt, ypred)"
   ]
  },
  {
   "cell_type": "code",
   "execution_count": null,
   "metadata": {},
   "outputs": [],
   "source": [
    "non_linear_case = NN(3, [4,2,5])\n",
    "x = [-2, -1, 0, 1, 2]\n",
    "ygt = [Value(9), Value(4), Value(1), Value(0), Value(1)]\n",
    "\n",
    "for _ in range(2000):\n",
    "    ypred = non_linear_case.forward(x)\n",
    "    print(ypred)\n",
    "    non_linear_case.backward(ygt, ypred)"
   ]
  },
  {
   "cell_type": "code",
   "execution_count": null,
   "metadata": {},
   "outputs": [],
   "source": [
    "non_linear_case2 = NN(3, [4,2,5])\n",
    "x = [-3, -1, 0, 1, 3]\n",
    "ygt = [Value(-0.995), Value(-0.761), Value(0.0), Value(0.761), Value(0.995)]\n",
    "\n",
    "for _ in range(2000):\n",
    "    ypred = non_linear_case2.forward(x)\n",
    "    print(ypred)\n",
    "    non_linear_case2.backward(ygt, ypred)"
   ]
  },
  {
   "cell_type": "code",
   "execution_count": null,
   "metadata": {},
   "outputs": [],
   "source": []
  }
 ],
 "metadata": {
  "colab": {
   "provenance": []
  },
  "kernelspec": {
   "display_name": "Python 3 (ipykernel)",
   "language": "python",
   "name": "python3"
  },
  "language_info": {
   "codemirror_mode": {
    "name": "ipython",
    "version": 3
   },
   "file_extension": ".py",
   "mimetype": "text/x-python",
   "name": "python",
   "nbconvert_exporter": "python",
   "pygments_lexer": "ipython3",
   "version": "3.13.5"
  }
 },
 "nbformat": 4,
 "nbformat_minor": 4
}
